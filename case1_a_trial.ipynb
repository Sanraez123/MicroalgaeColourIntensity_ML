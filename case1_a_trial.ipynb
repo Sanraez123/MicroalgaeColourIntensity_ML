{
 "cells": [
  {
   "cell_type": "code",
   "execution_count": 121,
   "id": "9a32e062",
   "metadata": {},
   "outputs": [],
   "source": [
    "import tensorflow.keras.utils as image\n",
    "import numpy as np\n",
    "import pandas as pd\n",
    "import sklearn\n",
    "from sklearn.preprocessing import LabelEncoder\n",
    "from sklearn.model_selection import train_test_split\n",
    "from tensorflow import keras\n",
    "from tensorflow.keras.models import Sequential\n",
    "from tensorflow.keras.models import Model\n",
    "from tensorflow.keras.layers import Input\n",
    "from tensorflow.keras.layers import Dense\n",
    "from tensorflow.keras.layers import Dropout\n",
    "from tqdm import tqdm\n",
    "from matplotlib import pyplot as plt"
   ]
  },
  {
   "cell_type": "code",
   "execution_count": 122,
   "id": "5aaef1f5",
   "metadata": {},
   "outputs": [],
   "source": [
    "csv_file = 'image_feature.csv'\n",
    "df = pd.read_csv(csv_file)"
   ]
  },
  {
   "cell_type": "code",
   "execution_count": 123,
   "id": "096acf15",
   "metadata": {},
   "outputs": [
    {
     "data": {
      "text/html": [
       "<div>\n",
       "<style scoped>\n",
       "    .dataframe tbody tr th:only-of-type {\n",
       "        vertical-align: middle;\n",
       "    }\n",
       "\n",
       "    .dataframe tbody tr th {\n",
       "        vertical-align: top;\n",
       "    }\n",
       "\n",
       "    .dataframe thead th {\n",
       "        text-align: right;\n",
       "    }\n",
       "</style>\n",
       "<table border=\"1\" class=\"dataframe\">\n",
       "  <thead>\n",
       "    <tr style=\"text-align: right;\">\n",
       "      <th></th>\n",
       "      <th>img_id</th>\n",
       "      <th>absorbance</th>\n",
       "    </tr>\n",
       "  </thead>\n",
       "  <tbody>\n",
       "    <tr>\n",
       "      <th>0</th>\n",
       "      <td>Image000</td>\n",
       "      <td>0.3043</td>\n",
       "    </tr>\n",
       "    <tr>\n",
       "      <th>1</th>\n",
       "      <td>Image001</td>\n",
       "      <td>0.8746</td>\n",
       "    </tr>\n",
       "    <tr>\n",
       "      <th>2</th>\n",
       "      <td>Image002</td>\n",
       "      <td>4.2235</td>\n",
       "    </tr>\n",
       "    <tr>\n",
       "      <th>3</th>\n",
       "      <td>Image003</td>\n",
       "      <td>3.6416</td>\n",
       "    </tr>\n",
       "    <tr>\n",
       "      <th>4</th>\n",
       "      <td>Image004</td>\n",
       "      <td>0.7311</td>\n",
       "    </tr>\n",
       "  </tbody>\n",
       "</table>\n",
       "</div>"
      ],
      "text/plain": [
       "     img_id  absorbance\n",
       "0  Image000      0.3043\n",
       "1  Image001      0.8746\n",
       "2  Image002      4.2235\n",
       "3  Image003      3.6416\n",
       "4  Image004      0.7311"
      ]
     },
     "execution_count": 123,
     "metadata": {},
     "output_type": "execute_result"
    }
   ],
   "source": [
    "df.head()"
   ]
  },
  {
   "cell_type": "code",
   "execution_count": 124,
   "id": "83e28586",
   "metadata": {},
   "outputs": [
    {
     "name": "stderr",
     "output_type": "stream",
     "text": [
      "100%|████████████████████████████████████████████████████████████████████████████████| 136/136 [00:04<00:00, 32.55it/s]\n"
     ]
    }
   ],
   "source": [
    "df_image = []\n",
    "image_width = 60\n",
    "image_height = 60\n",
    "image_area = image_width * image_height * 3\n",
    "for i in tqdm(range(df.shape[0])):\n",
    "    img = image.load_img(r'image\\\\image_dataset\\\\'+df['img_id'][i]+'.jpg', target_size=(image_width,image_height,3))\n",
    "    img = image.img_to_array(img)\n",
    "    df_image.append(img)\n",
    "X = np.array(df_image)\n",
    "X_col = len(df.index)\n",
    "X = X.reshape(X_col, image_area)\n",
    "X /= 255"
   ]
  },
  {
   "cell_type": "code",
   "execution_count": 125,
   "id": "d7fcda35",
   "metadata": {},
   "outputs": [],
   "source": [
    "#le = LabelEncoder()\n",
    "#df['stress_condition'] = le.fit_transform(df['stress_condition'])\n",
    "\n",
    "y_regr1 = np.array(df['absorbance'])\n",
    "#y_regr2 = np.array(df['biomass_yield'])\n",
    "#y_class = np.array(df['stress_condition'])\n",
    "#n_class = len(np.unique(y_class[:]))\n",
    "\n",
    "X_train, X_test, y_regr1_train, y_regr1_test = train_test_split(X, y_regr1, test_size=0.1, random_state=1)"
   ]
  },
  {
   "cell_type": "code",
   "execution_count": 130,
   "id": "770afe82",
   "metadata": {},
   "outputs": [
    {
     "data": {
      "image/png": "[encoded data removed]",
      "text/plain": [
       "<IPython.core.display.Image object>"
      ]
     },
     "execution_count": 130,
     "metadata": {},
     "output_type": "execute_result"
    }
   ],
   "source": [
    "model = Sequential()\n",
    "model.add(Dropout(0.2, input_shape=(image_area,)))\n",
    "model.add(Dense(64, activation='relu', kernel_initializer='he_normal'))\n",
    "model.add(Dense(32, activation='relu', kernel_initializer='he_normal'))\n",
    "model.add(Dense(1, activation='linear'))\n",
    "\n",
    "#visible = visible.add(Dropout(0.2, input_shape=(image_area,)))\n",
    "#visible = Input(shape=(image_area,))\n",
    "#hidden1 = Dense(64, activation='relu', kernel_initializer='he_normal')(visible)\n",
    "#hidden2 = Dense(32, activation='relu', kernel_initializer='he_normal')(hidden1)\n",
    "#regr1_out = Dense(1, activation='linear')(hidden2)\n",
    "#regr2_out = Dense(1, activation='linear')(hidden2)\n",
    "#class_out = Dense(n_class, activation='softmax')(hidden2)\n",
    "#model = Model(inputs=visible, outputs=regr1_out)\n",
    "\n",
    "model.compile(loss=['mse','sparse_categorical_crossentropy'], optimizer='adam')\n",
    "image.plot_model(model, to_file='model.png', show_shapes=True)"
   ]
  },
  {
   "cell_type": "code",
   "execution_count": 131,
   "id": "15a510cf",
   "metadata": {},
   "outputs": [
    {
     "name": "stdout",
     "output_type": "stream",
     "text": [
      "Epoch 1/30\n",
      "6/6 - 0s - loss: 13.4793 - val_loss: 0.7175 - 288ms/epoch - 48ms/step\n",
      "Epoch 2/30\n",
      "6/6 - 0s - loss: 3.8444 - val_loss: 0.4202 - 39ms/epoch - 7ms/step\n",
      "Epoch 3/30\n",
      "6/6 - 0s - loss: 2.8555 - val_loss: 0.2701 - 40ms/epoch - 7ms/step\n",
      "Epoch 4/30\n",
      "6/6 - 0s - loss: 1.1540 - val_loss: 0.6296 - 42ms/epoch - 7ms/step\n",
      "Epoch 5/30\n",
      "6/6 - 0s - loss: 0.6027 - val_loss: 0.5515 - 38ms/epoch - 6ms/step\n",
      "Epoch 6/30\n",
      "6/6 - 0s - loss: 0.4843 - val_loss: 0.5720 - 38ms/epoch - 6ms/step\n",
      "Epoch 7/30\n",
      "6/6 - 0s - loss: 0.4467 - val_loss: 0.4875 - 39ms/epoch - 7ms/step\n",
      "Epoch 8/30\n",
      "6/6 - 0s - loss: 0.4550 - val_loss: 0.4174 - 38ms/epoch - 6ms/step\n",
      "Epoch 9/30\n",
      "6/6 - 0s - loss: 0.2881 - val_loss: 0.5614 - 37ms/epoch - 6ms/step\n",
      "Epoch 10/30\n",
      "6/6 - 0s - loss: 0.2989 - val_loss: 0.3080 - 38ms/epoch - 6ms/step\n",
      "Epoch 11/30\n",
      "6/6 - 0s - loss: 0.2091 - val_loss: 0.3464 - 37ms/epoch - 6ms/step\n",
      "Epoch 12/30\n",
      "6/6 - 0s - loss: 0.2164 - val_loss: 0.3664 - 38ms/epoch - 6ms/step\n",
      "Epoch 13/30\n",
      "6/6 - 0s - loss: 0.1855 - val_loss: 0.3038 - 37ms/epoch - 6ms/step\n",
      "Epoch 14/30\n",
      "6/6 - 0s - loss: 0.1345 - val_loss: 0.2278 - 37ms/epoch - 6ms/step\n",
      "Epoch 15/30\n",
      "6/6 - 0s - loss: 0.1777 - val_loss: 0.1877 - 37ms/epoch - 6ms/step\n",
      "Epoch 16/30\n",
      "6/6 - 0s - loss: 0.1097 - val_loss: 0.2005 - 37ms/epoch - 6ms/step\n",
      "Epoch 17/30\n",
      "6/6 - 0s - loss: 0.1153 - val_loss: 0.1890 - 40ms/epoch - 7ms/step\n",
      "Epoch 18/30\n",
      "6/6 - 0s - loss: 0.1014 - val_loss: 0.1984 - 38ms/epoch - 6ms/step\n",
      "Epoch 19/30\n",
      "6/6 - 0s - loss: 0.0969 - val_loss: 0.1730 - 39ms/epoch - 6ms/step\n",
      "Epoch 20/30\n",
      "6/6 - 0s - loss: 0.0910 - val_loss: 0.1650 - 37ms/epoch - 6ms/step\n",
      "Epoch 21/30\n",
      "6/6 - 0s - loss: 0.0902 - val_loss: 0.1342 - 38ms/epoch - 6ms/step\n",
      "Epoch 22/30\n",
      "6/6 - 0s - loss: 0.0828 - val_loss: 0.1159 - 38ms/epoch - 6ms/step\n",
      "Epoch 23/30\n",
      "6/6 - 0s - loss: 0.0972 - val_loss: 0.1190 - 41ms/epoch - 7ms/step\n",
      "Epoch 24/30\n",
      "6/6 - 0s - loss: 0.0891 - val_loss: 0.1118 - 38ms/epoch - 6ms/step\n",
      "Epoch 25/30\n",
      "6/6 - 0s - loss: 0.0938 - val_loss: 0.1056 - 38ms/epoch - 6ms/step\n",
      "Epoch 26/30\n",
      "6/6 - 0s - loss: 0.0807 - val_loss: 0.0916 - 38ms/epoch - 6ms/step\n",
      "Epoch 27/30\n",
      "6/6 - 0s - loss: 0.0562 - val_loss: 0.0873 - 37ms/epoch - 6ms/step\n",
      "Epoch 28/30\n",
      "6/6 - 0s - loss: 0.0554 - val_loss: 0.0874 - 41ms/epoch - 7ms/step\n",
      "Epoch 29/30\n",
      "6/6 - 0s - loss: 0.0601 - val_loss: 0.0794 - 38ms/epoch - 6ms/step\n",
      "Epoch 30/30\n",
      "6/6 - 0s - loss: 0.0385 - val_loss: 0.0932 - 40ms/epoch - 7ms/step\n",
      "1/1 [==============================] - 0s 34ms/step\n",
      "MAE (absorbance): 0.242\n"
     ]
    }
   ],
   "source": [
    "history = model.fit(X_train, y_regr1_train, epochs=30, batch_size=24, validation_data=(X_test, y_regr1_test), verbose=2, shuffle=True)\n",
    "yhat1 = model.predict(X_test)\n",
    "\n",
    "error1 = sklearn.metrics.mean_absolute_error(y_regr1_test, yhat1)\n",
    "print('MAE (absorbance): %.3f' % error1)"
   ]
  },
  {
   "cell_type": "code",
   "execution_count": 132,
   "id": "9e907ce9",
   "metadata": {},
   "outputs": [
    {
     "data": {
      "image/png": "[encoded data removed]",
      "text/plain": [
       "<Figure size 640x480 with 1 Axes>"
      ]
     },
     "metadata": {},
     "output_type": "display_data"
    }
   ],
   "source": [
    "plt.plot(history.history['loss'])\n",
    "plt.plot(history.history['val_loss'])\n",
    "plt.title('model loss')\n",
    "plt.ylabel('loss')\n",
    "plt.xlabel('epoch')\n",
    "plt.legend(['train', 'test'], loc='upper left')\n",
    "plt.show()"
   ]
  },
  {
   "cell_type": "code",
   "execution_count": 133,
   "id": "1c9511d5",
   "metadata": {},
   "outputs": [
    {
     "name": "stdout",
     "output_type": "stream",
     "text": [
      "INFO:tensorflow:Assets written to: test1_ANN\\assets\n"
     ]
    }
   ],
   "source": [
    "model.save('test1_ANN')"
   ]
  },
  {
   "cell_type": "code",
   "execution_count": null,
   "id": "38c67449",
   "metadata": {},
   "outputs": [],
   "source": []
  }
 ],
 "metadata": {
  "kernelspec": {
   "display_name": "Python 3 (ipykernel)",
   "language": "python",
   "name": "python3"
  },
  "language_info": {
   "codemirror_mode": {
    "name": "ipython",
    "version": 3
   },
   "file_extension": ".py",
   "mimetype": "text/x-python",
   "name": "python",
   "nbconvert_exporter": "python",
   "pygments_lexer": "ipython3",
   "version": "3.10.8"
  }
 },
 "nbformat": 4,
 "nbformat_minor": 5
}
