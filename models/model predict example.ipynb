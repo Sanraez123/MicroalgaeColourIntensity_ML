{
 "cells": [
  {
   "cell_type": "code",
   "execution_count": null,
   "id": "bbd019cf",
   "metadata": {},
   "outputs": [],
   "source": [
    "def prepare(file_path):\n",
    "    df_image = []\n",
    "    image_width = 60\n",
    "    image_height = 60\n",
    "    img = image.load_img(file_path, target_size=(image_width,image_height,3))\n",
    "    left = image_width*0.4\n",
    "    top = image_height*0.4\n",
    "    right = image_width*0.6\n",
    "    bottom = image_height*0.6\n",
    "    img = img.crop((left, top, right, bottom))\n",
    "    image_array = np.array(img)\n",
    "    average_color = image_array.mean(axis=(0, 1))\n",
    "    average_color /= 255\n",
    "    return average_color\n",
    "\n",
    "prediction = model.predict([prepare(r'C:\\\\Users\\\\User\\\\Documents\\\\Year 4\\\\ml_mep2\\\\image\\\\image_test\\\\'+'test_image.jpg')])\n",
    "real = 9.5432\n",
    "diff = ((prediction-real)/real)*100\n",
    "print(\"test_img_real = %.4f\\ntest_img_predict = %.4f\" %(real,prediction), \"\\nDiff =\", \"%.2f%%\" % diff)"
   ]
  }
 ],
 "metadata": {
  "kernelspec": {
   "display_name": "Python 3 (ipykernel)",
   "language": "python",
   "name": "python3"
  },
  "language_info": {
   "codemirror_mode": {
    "name": "ipython",
    "version": 3
   },
   "file_extension": ".py",
   "mimetype": "text/x-python",
   "name": "python",
   "nbconvert_exporter": "python",
   "pygments_lexer": "ipython3",
   "version": "3.10.8"
  }
 },
 "nbformat": 4,
 "nbformat_minor": 5
}
