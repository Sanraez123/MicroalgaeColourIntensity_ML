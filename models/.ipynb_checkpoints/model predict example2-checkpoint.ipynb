{
 "cells": [
  {
   "cell_type": "code",
   "execution_count": 3,
   "id": "76d1b5b8",
   "metadata": {},
   "outputs": [],
   "source": [
    "import cv2\n",
    "import tensorflow as tf\n",
    "import tensorflow.keras.utils as image\n",
    "import numpy as np"
   ]
  },
  {
   "cell_type": "code",
   "execution_count": 4,
   "id": "05817226",
   "metadata": {},
   "outputs": [
    {
     "name": "stdout",
     "output_type": "stream",
     "text": [
      "1/1 [==============================] - 0s 120ms/step\n",
      "test_img_real = 9.5432\n",
      "test_img_predict = 8.3162 \n",
      "Diff = -12.86%\n"
     ]
    }
   ],
   "source": [
    "def prepare(file_path):\n",
    "    df_image = []\n",
    "    image_width = 60\n",
    "    image_height = 60\n",
    "    img = image.load_img(file_path, target_size=(image_width,image_height,3))\n",
    "    left = image_width*0.4\n",
    "    top = image_height*0.4\n",
    "    right = image_width*0.6\n",
    "    bottom = image_height*0.6\n",
    "    img = img.crop((left, top, right, bottom))\n",
    "    img = image.img_to_array(img)\n",
    "    image_area = int((right-left) * (bottom-top) * 3)\n",
    "    img = img.reshape(-1, image_area)\n",
    "    img /= 255\n",
    "    return img\n",
    "\n",
    "model = tf.keras.models.load_model('test1_ANN')\n",
    "\n",
    "prediction = model.predict([prepare(r'image\\\\image_test\\\\'+'test_image.jpg')])\n",
    "real = 9.5432\n",
    "diff = ((prediction-real)/real)*100\n",
    "print(\"test_img_real = %.4f\\ntest_img_predict = %.4f\" %(real,prediction), \"\\nDiff =\", \"%.2f%%\" % diff)"
   ]
  },
  {
   "cell_type": "code",
   "execution_count": null,
   "id": "86cafd6e",
   "metadata": {},
   "outputs": [],
   "source": []
  },
  {
   "cell_type": "code",
   "execution_count": null,
   "id": "8a190a1a",
   "metadata": {},
   "outputs": [],
   "source": []
  }
 ],
 "metadata": {
  "kernelspec": {
   "display_name": "Python 3 (ipykernel)",
   "language": "python",
   "name": "python3"
  },
  "language_info": {
   "codemirror_mode": {
    "name": "ipython",
    "version": 3
   },
   "file_extension": ".py",
   "mimetype": "text/x-python",
   "name": "python",
   "nbconvert_exporter": "python",
   "pygments_lexer": "ipython3",
   "version": "3.10.8"
  }
 },
 "nbformat": 4,
 "nbformat_minor": 5
}
